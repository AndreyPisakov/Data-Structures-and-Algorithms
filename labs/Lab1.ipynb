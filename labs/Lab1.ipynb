{
 "cells": [
  {
   "cell_type": "markdown",
   "id": "fifteen-sailing",
   "metadata": {},
   "source": [
    "# Лабораторная работа №1\n",
    "## Выполнил студент группы БФИ2001 Писаков Андрей Андреевич"
   ]
  },
  {
   "cell_type": "markdown",
   "id": "particular-syndicate",
   "metadata": {
    "tags": []
   },
   "source": [
    "### Оглавление\n",
    "1. [Задание 1](#Задание-№1)\n",
    "2. [Задание 2](#Задание-№2)\n",
    "3. [Задание 3](#Задание-№3)\n",
    "4. [Вывод](#Вывод)"
   ]
  },
  {
   "cell_type": "markdown",
   "id": "arctic-stocks",
   "metadata": {},
   "source": [
    "### Задание №1\n",
    "<i> Вызвать функцию print() и передать туда строку Hello, World! </i>"
   ]
  },
  {
   "cell_type": "code",
   "execution_count": 1,
   "id": "caring-truck",
   "metadata": {
    "scrolled": true
   },
   "outputs": [
    {
     "name": "stdout",
     "output_type": "stream",
     "text": [
      "Hello, World!\n"
     ]
    }
   ],
   "source": [
    "print(\"Hello, World!\")"
   ]
  },
  {
   "cell_type": "markdown",
   "id": "maritime-conversation",
   "metadata": {},
   "source": [
    "### Задание №2\n",
    "Написать генератор случайных матриц(многомерных), который принимает\n",
    "опциональные параметры <b>m</b>, <b>n</b>, <b>min_limit</b>, <b>max_limit</b>, где <b>m</b> и <b>n</b> указывают размер\n",
    "матрицы, а <b>min_lim</b> и <b>max_lim</b> - минимальное и максимальное значение для\n",
    "генерируемого числа."
   ]
  },
  {
   "cell_type": "code",
   "execution_count": 2,
   "id": "built-contact",
   "metadata": {},
   "outputs": [],
   "source": [
    "import random\n",
    "import time"
   ]
  },
  {
   "cell_type": "code",
   "execution_count": 24,
   "id": "alert-charm",
   "metadata": {},
   "outputs": [
    {
     "name": "stdin",
     "output_type": "stream",
     "text": [
      " 300\n",
      " 300\n",
      " -100\n",
      " 100\n"
     ]
    }
   ],
   "source": [
    "def generateMatrix(m, n, min_lim, max_lim):\n",
    "    array = [[0] * n for i in range(m)]\n",
    "    for i in range(m): \n",
    "        for j in range(n): \n",
    "            array[i][j] = random.randint(min_lim, max_lim)\n",
    "    return array\n",
    "\n",
    "\n",
    "user_m = int(input())\n",
    "user_n = int(input())\n",
    "user_min_limit = int(input())\n",
    "user_max_limit = int(input())\n",
    "a = generateMatrix(user_m, user_n, user_min_limit, user_max_limit)"
   ]
  },
  {
   "cell_type": "markdown",
   "id": "catholic-roots",
   "metadata": {},
   "source": [
    "### Задание №3\n",
    "Реализовать методы сортировки строк числовой матрицы в соответствии с\n",
    "заданием. Оценить время работы каждого алгоритма сортировки и сравнить его со\n",
    "временем стандартной функции сортировки. Испытания проводить на сгенерированных\n",
    "матрицах."
   ]
  },
  {
   "cell_type": "code",
   "execution_count": 5,
   "id": "opposed-creature",
   "metadata": {},
   "outputs": [],
   "source": [
    "import copy"
   ]
  },
  {
   "cell_type": "code",
   "execution_count": 25,
   "id": "cleared-anniversary",
   "metadata": {},
   "outputs": [
    {
     "name": "stdout",
     "output_type": "stream",
     "text": [
      "--- 1906 ms ---\n"
     ]
    }
   ],
   "source": [
    "# Сортировка выбором.\n",
    "# Берётся срез массива, в котором минимальный элемент переносят в самый левый угол,\n",
    "# после чего срез уменьшается и цикл повторяется.\n",
    "def sort1(n, array):\n",
    "    for row in array:\n",
    "        i = 0\n",
    "        while i < n - 1:\n",
    "            k = i\n",
    "            j = i + 1\n",
    "            while j < n:\n",
    "                if (row[j] < row[k]): k = j\n",
    "                j += 1\n",
    "            row[i], row[k] = row[k], row[i]\n",
    "            i += 1\n",
    "            \n",
    "            \n",
    "start_time = time.time()\n",
    "sort1(user_n, copy.deepcopy(a))\n",
    "print(\"--- {0} ms ---\".format(round((time.time() - start_time)*1000)))"
   ]
  },
  {
   "cell_type": "code",
   "execution_count": 26,
   "id": "roman-silly",
   "metadata": {
    "scrolled": true,
    "tags": []
   },
   "outputs": [
    {
     "name": "stdout",
     "output_type": "stream",
     "text": [
      "--- 1391 ms ---\n"
     ]
    }
   ],
   "source": [
    "# Сортировка вставкой.\n",
    "def sort2(n, array):\n",
    "    for row in array:\n",
    "        for i in range(1, n):\n",
    "            key = row[i]\n",
    "            j = i - 1\n",
    "            while j >= 0 and key < row[j]:\n",
    "                row[j + 1] = row[j]\n",
    "                j -= 1\n",
    "            row[j + 1] = key\n",
    "            \n",
    "            \n",
    "start_time = time.time()\n",
    "sort2(user_n, copy.deepcopy(a))\n",
    "print(\"--- {0} ms ---\".format(round((time.time() - start_time)*1000)))"
   ]
  },
  {
   "cell_type": "code",
   "execution_count": 27,
   "id": "vital-implementation",
   "metadata": {},
   "outputs": [
    {
     "name": "stdout",
     "output_type": "stream",
     "text": [
      "--- 2740 ms ---\n"
     ]
    }
   ],
   "source": [
    "# Сортировка обменом. || Сортировка пузырьком.\n",
    "def sort3(n, array):\n",
    "    for row in array:\n",
    "        for i in range(n - 1):\n",
    "            for j in range(n - i - 1):\n",
    "                if row[j] > row[j + 1]:\n",
    "                    row[j], row[j + 1] = row[j + 1], row[j]\n",
    "                    \n",
    "                    \n",
    "start_time = time.time()\n",
    "sort3(user_n, copy.deepcopy(a))\n",
    "print(\"--- {0} ms ---\".format(round((time.time() - start_time)*1000)))"
   ]
  },
  {
   "cell_type": "code",
   "execution_count": 28,
   "id": "veterinary-glory",
   "metadata": {},
   "outputs": [
    {
     "name": "stdout",
     "output_type": "stream",
     "text": [
      "--- 271 ms ---\n"
     ]
    }
   ],
   "source": [
    "import math\n",
    "# Сортировка Шелла.\n",
    "def sort4(n, array):\n",
    "    for row in array:\n",
    "        k = int(math.log2(n))\n",
    "        if k % 2 == 0: interval = 9 * 2 ** k - 9 * 2 ** (k // 2) + 1\n",
    "        else: interval = 8 * 2 ** k - 6 * 2 ** ((k + 1) // 2) + 1\n",
    "        while interval > 0:\n",
    "            for i in range(interval, n):\n",
    "                temp = row[i]\n",
    "                j = i\n",
    "                while j >= interval and row[j - interval] > temp:\n",
    "                    row[j] = row[j - interval]\n",
    "                    j -= interval\n",
    "                row[j] = temp\n",
    "            k -= 1\n",
    "            if k % 2 == 0: interval = 9 * 2 ** k - 9 * 2 ** (k // 2) + 1\n",
    "            else: interval = 8 * 2 ** k - 6 * 2 ** ((k + 1) // 2) + 1\n",
    "            \n",
    "            \n",
    "start_time = time.time()\n",
    "sort4(user_n, copy.deepcopy(a))\n",
    "print(\"--- {0} ms ---\".format(round((time.time() - start_time)*1000)))"
   ]
  },
  {
   "cell_type": "code",
   "execution_count": 29,
   "id": "correct-chaos",
   "metadata": {},
   "outputs": [
    {
     "name": "stdout",
     "output_type": "stream",
     "text": [
      "--- 365 ms ---\n"
     ]
    }
   ],
   "source": [
    "# Быстрая сортировка.\n",
    "def sort6(n, array):\n",
    "    for row in array:\n",
    "        row_sort(n, row, 0, n - 1)\n",
    "def row_sort(n, row, fst, lst):\n",
    "    if fst >= lst: return\n",
    "    i, j = fst, lst\n",
    "    d = row[random.randint(fst, lst)]\n",
    "    while i <= j:\n",
    "        while row[i] < d: i += 1\n",
    "        while row[j] > d: j -= 1\n",
    "        if i <= j:\n",
    "            row[i], row[j] = row[j], row[i]\n",
    "            i, j = i + 1, j - 1\n",
    "    row_sort(n, row, fst, j)\n",
    "    row_sort(n, row, i, lst)\n",
    "    \n",
    "    \n",
    "start_time = time.time()\n",
    "sort6(user_n, copy.deepcopy(a))\n",
    "print(\"--- {0} ms ---\".format(round((time.time() - start_time)*1000))) "
   ]
  },
  {
   "cell_type": "code",
   "execution_count": 30,
   "id": "french-czech",
   "metadata": {},
   "outputs": [
    {
     "name": "stdout",
     "output_type": "stream",
     "text": [
      "--- 815 ms ---\n"
     ]
    }
   ],
   "source": [
    "# Турнирная сортировка.\n",
    "def sort5(m, n, array):\n",
    "    for i in range(m):\n",
    "        losers = []\n",
    "        winners = []\n",
    "        heap = []\n",
    "        cycle(heap, winners, losers, array[i], n)\n",
    "        winners2 = []\n",
    "        while len(losers) != 0:\n",
    "            newrow = losers.copy()\n",
    "            winners2.clear()\n",
    "            losers.clear()\n",
    "            cycle(heap, winners2, losers, newrow, len(newrow))\n",
    "            newrow.clear()\n",
    "            merge(winners, winners2, newrow)\n",
    "            winners = newrow.copy()\n",
    "        array[i] = winners\n",
    "def cycle(heap, winners, losers, row, n):\n",
    "    heap_increase_key(heap, len(heap), row[0])\n",
    "    if n != 1:\n",
    "        heap_increase_key(heap, len(heap), row[1])\n",
    "        for j in range(2, n):\n",
    "            heap_insert(heap, row[j], losers, winners, len(heap))\n",
    "    while len(heap) != 0:\n",
    "        winners.append(heap_extract_min(len(heap), heap))\n",
    "def merge(winners, winners2, newrow):\n",
    "    while len(winners) != 0 and len(winners2) != 0:\n",
    "        if winners[0] < winners2[0]:\n",
    "            newrow.append(winners[0])\n",
    "            winners.remove(winners[0])\n",
    "        else:\n",
    "            newrow.append(winners2[0])\n",
    "            winners2.remove(winners2[0])\n",
    "    if len(winners) != 0:\n",
    "        newrow += winners\n",
    "        winners.clear()\n",
    "    else:\n",
    "        newrow += winners2\n",
    "        winners2.clear()\n",
    "def min_heapify(heap, index, n):\n",
    "    l = 2 * index + 1\n",
    "    r = 2 * index + 2\n",
    "    largest = l if l < n and heap[l] < heap[index] else index\n",
    "    if r < n and heap[r] < heap[largest]: largest = r\n",
    "    if largest != index:\n",
    "        heap[largest], heap[index] = heap[index], heap[largest]\n",
    "        min_heapify(heap, largest, n)\n",
    "def heap_extract_min(n, heap):\n",
    "    min = heap[0]\n",
    "    if n != 1:\n",
    "        heap[0] = math.inf\n",
    "        min_heapify(heap, 0, n)\n",
    "        heap.remove(math.inf)\n",
    "        n -= 1\n",
    "    else: heap.remove(heap[0])\n",
    "    return min\n",
    "def heap_increase_key(heap, index, key):\n",
    "    heap.append(key)\n",
    "    while index > 0 and heap[(index - 1) // 2] > heap[index]:\n",
    "        heap[(index - 1) // 2], heap[index] = heap[index], heap[(index - 1) // 2]\n",
    "        index = (index - 1) // 2\n",
    "def heap_insert(heap, key, losers, winners, size):\n",
    "    if len(winners) != 0 and winners[len(winners) - 1] > key: losers.append(key)\n",
    "    elif len(winners) != 0 and winners[len(winners) - 1] == key: winners.append(key)\n",
    "    else:\n",
    "        heap_increase_key(heap, size, key)\n",
    "        size += 1\n",
    "        winners.append(heap_extract_min(size, heap))\n",
    "        \n",
    "        \n",
    "start_time = time.time()\n",
    "sort5(user_m, user_n, copy.deepcopy(a))\n",
    "print(\"--- {0} ms ---\".format(round((time.time() - start_time)*1000)))"
   ]
  },
  {
   "cell_type": "code",
   "execution_count": 31,
   "id": "c782b64c-f185-4327-90eb-2de5a5422629",
   "metadata": {},
   "outputs": [
    {
     "name": "stdout",
     "output_type": "stream",
     "text": [
      "--- 78 ms ---\n"
     ]
    }
   ],
   "source": [
    "# Встроенная функция сортировки\n",
    "\n",
    "start_time = time.time()\n",
    "array = copy.deepcopy(a)\n",
    "for i in range(user_m):\n",
    "    array[i].sort()\n",
    "print(\"--- {0} ms ---\".format(round((time.time() - start_time)*1000)))"
   ]
  },
  {
   "cell_type": "markdown",
   "id": "rental-jerusalem",
   "metadata": {},
   "source": [
    "### Вывод\n"
   ]
  },
  {
   "cell_type": "markdown",
   "id": "9d108a0a",
   "metadata": {},
   "source": [
    "#### Оценка время работы каждого алгоритма сортировки проводилась со следующими входными значениями:\n",
    "    \n",
    "    Количество строк матрицы: 300\n",
    "    Количество столбцов матрицы: 300\n",
    "    Минимальное значение элементов матрицы: -100\n",
    "    Максимальное значение элементов матрицы: 100\n",
    "\n",
    "    Результаты:\n",
    "     --- 1906 ms --- время работы сортировки выбором\n",
    "     --- 1391 ms --- время работы сортировки вставкой\n",
    "     --- 2740 ms --- время работы сортировки обменом\n",
    "     ---  271 ms --- время работы сортировки Шелла\n",
    "     ---  815 ms --- время работы турнирной сортировки\n",
    "     ---  365 ms --- время работы быстрой сортировки\n",
    "\n",
    "     ---   78 ms --- время работы сортировки с помощью встроенной функции"
   ]
  }
 ],
 "metadata": {
  "kernelspec": {
   "display_name": "Python 3 (ipykernel)",
   "language": "python",
   "name": "python3"
  },
  "language_info": {
   "codemirror_mode": {
    "name": "ipython",
    "version": 3
   },
   "file_extension": ".py",
   "mimetype": "text/x-python",
   "name": "python",
   "nbconvert_exporter": "python",
   "pygments_lexer": "ipython3",
   "version": "3.10.2"
  }
 },
 "nbformat": 4,
 "nbformat_minor": 5
}
